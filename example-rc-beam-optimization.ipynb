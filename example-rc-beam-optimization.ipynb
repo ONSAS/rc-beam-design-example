{
 "cells": [
  {
   "cell_type": "markdown",
   "id": "2a1ac428",
   "metadata": {},
   "source": [
    "# Example of RC beam optimal design\n",
    "\n",
    "## Requirements\n",
    "\n",
    " - python3\n",
    " - cma python package: install via pip https://pypi.org/project/cma/#description\n"
   ]
  },
  {
   "cell_type": "code",
   "execution_count": 106,
   "id": "450865e8",
   "metadata": {},
   "outputs": [],
   "source": [
    "# problem: rectangular cross-section beam\n",
    "b0 = .15 # thickness\n",
    "h0 = .4  # height\n",
    "\n",
    "rec = 0.03\n",
    "\n",
    "L = 1.5 # length\n",
    "    \n",
    "gamma = 25e3 # specific weight of concrete\n",
    "qsc = 10e3    # N/m load\n",
    "\n",
    "fck = 25e6\n",
    "fyk = 400e6\n"
   ]
  },
  {
   "cell_type": "code",
   "execution_count": 107,
   "id": "f384008d",
   "metadata": {},
   "outputs": [],
   "source": [
    "# import CMA-ES package\n",
    "import cma\n",
    "from math import sqrt"
   ]
  },
  {
   "cell_type": "code",
   "execution_count": 108,
   "id": "33391a3b",
   "metadata": {},
   "outputs": [],
   "source": [
    "def structAnalysis(x):\n",
    "    \n",
    "    b = x[0]\n",
    "    h = x[1]\n",
    "    \n",
    "    qpp = b * h * gamma\n",
    "    print(qpp)\n",
    "    Moment = (qsc + qpp) * L**2.0 / 8.0\n",
    "    return Moment"
   ]
  },
  {
   "cell_type": "code",
   "execution_count": 109,
   "id": "4f925011",
   "metadata": {},
   "outputs": [],
   "source": [
    "def steelDesign(x,M):\n",
    "    fcd = fck/1.5\n",
    "    fyd = fyk/1.15\n",
    "      \n",
    "    b = x[0]\n",
    "    h = x[1]\n",
    "    d = h-rec\n",
    "\n",
    "    Md   = M\n",
    "    Mcrd = 0.251 * b * d**2 * fcd\n",
    "\n",
    "    mud = Md/(b*d**2*fcd)\n",
    "    \n",
    "    omega_pos = (-1+sqrt(1-4*(-1/1.7)*(-mud)) ) / (2*(-1/1.7))\n",
    "    omega_neg = (-1-sqrt(1-4*(-1/1.7)*(-mud)) ) / (2*(-1/1.7))\n",
    "    \n",
    "    #print(\"mud:\", mud)\n",
    "    #print(\"omegas:\", omega_pos, \" \" , omega_neg)\n",
    "\n",
    "    omega = omega_neg \n",
    "    if Md < Mcrd:\n",
    "        \n",
    "        Ast = omega * b*d*fcd / fyd\n",
    "        Asc = 0.0\n",
    "    else:\n",
    "        DeltaM = Md - Mcrd\n",
    "        Asc = DeltaM / ( (d-rec)*fyd )\n",
    "        Ast = 0.306 * b * d * fcd / fyd + DeltaM / ( (d-rec)*fyd ) \n",
    "    return Ast, Asc"
   ]
  },
  {
   "cell_type": "code",
   "execution_count": 110,
   "id": "16e34fd4",
   "metadata": {},
   "outputs": [],
   "source": [
    "def costFun(x):\n",
    "    \n",
    "    M = structAnalysis(x)\n",
    "    \n",
    "    # compute steel area\n",
    "    Ast, Asc = steelDesign( x, M)\n",
    "    \n",
    "    print(\"Steel: Ast: \", Ast , \" Asc: \", Asc)\n",
    "\n",
    "    # compute cost\n",
    "    f = L * ( Ast + Asc )\n",
    "    return f"
   ]
  },
  {
   "cell_type": "code",
   "execution_count": 111,
   "id": "0e930d9f",
   "metadata": {},
   "outputs": [],
   "source": [
    "\n",
    "x0 = [b0, h0]  # initial solution\n",
    "\n",
    "M=structAnalysis(x0)\n",
    "\n",
    "print(\"moment: \", M)\n",
    "\n",
    "Ast,Asc = steelDesign(x0,M)\n",
    "print(\"Steel: Ast: \", Ast , \" Asc: \", Asc)\n",
    "\n",
    "fun = costFun  # we could use `functools.partial(cma.ff.elli, cond=1e4)` to change the condition number to 1e4\n",
    "sigma0 = .1    # initial standard deviation to sample new solutions\n",
    "xopt, es = cma.fmin2(fun, x0, sigma0, {'bounds': [ [.1, .1], None]} )"
   ]
  },
  {
   "cell_type": "code",
   "execution_count": 112,
   "id": "decaf408",
   "metadata": {},
   "outputs": [],
   "source": [
    "dict(es.result._asdict())"
   ]
  },
  {
   "cell_type": "code",
   "execution_count": 113,
   "id": "7ca2cccd",
   "metadata": {},
   "outputs": [],
   "source": [
    "es.plot();"
   ]
  }
 ],
 "metadata": {
  "kernelspec": {
   "display_name": "Python 3 (ipykernel)",
   "language": "python",
   "name": "python3"
  },
  "language_info": {
   "codemirror_mode": {
    "name": "ipython",
    "version": 3
   },
   "file_extension": ".py",
   "mimetype": "text/x-python",
   "name": "python",
   "nbconvert_exporter": "python",
   "pygments_lexer": "ipython3",
   "version": "3.10.10"
  }
 },
 "nbformat": 4,
 "nbformat_minor": 5
}
